{
 "cells": [
  {
   "cell_type": "code",
   "execution_count": 2,
   "metadata": {},
   "outputs": [
    {
     "data": {
      "text/plain": [
       "'[[0, undefined, ...], [1, undefined, ...], [2, undefined, ...], [3, undefined, ...], [4, undefined, ...], [5, undefined, ...], [6, undefined, ...], [7, undefined, ...], [8, undefined, ...], [9, undefined, ...], [10, undefined, ...], [11, undefined, ...], [12, undefined, ...], [13, undefined, ...], [14, undefined, ...], [15, undefined, ...], [16, undefined, ...], [17, undefined, ...], [18, undefined, ...], [19, undefined, ...], [20, undefined, ...], [21, undefined, ...], [22, undefined, ...], [23, undefined, ...], [24, undefined, ...], [25, undefined, ...], [26, undefined, ...], [27, undefined, ...], [28, undefined, ...], [29, undefined, ...], [30, undefined, ...], [31, undefined, ...], [32, undefined, ...], [33, undefined, ...], [34, undefined, ...], [35, undefined, ...], [36, undefined, ...], [37, undefined, ...], [38, undefined, ...], [39, undefined, ...], [40, undefined, ...], [41, undefined, ...], [42, undefined, ...], [43, undefined, ...], [44, undefined, ...], [45, undefined, ...], [46, undefined, ...], [47, undefined, ...], [48, undefined, ...], [49, undefined, ...], [50, undefined, ...], [51, undefined, ...], [52, undefined, ...], [53, undefined, ...], [54, undefined, ...], [55, undefined, ...], [56, undefined, ...], [57, undefined, ...], [58, undefined, ...], [59, undefined, ...], [60, undefined, ...], [61, undefined, ...], [62, undefined, ...], [63, undefined, ...], [64, undefined, ...], [65, undefined, ...], [66, undefined, ...], [67, undefined, ...], [68, undefined, ...], [69, undefined, ...], [70, undefined, ...], [71, undefined, ...], [72, undefined, ...], [73, undefined, ...], [74, undefined, ...], [75, undefined, ...], [76, undefined, ...], [77, undefined, ...], [78, undefined, ...], [79, undefined, ...], [80, undefined, ...], [81, undefined, ...], [82, undefined, ...], [83, undefined, ...], [84, undefined, ...], [85, undefined, ...], [86, undefined, ...], [87, undefined, ...], [88, undefined, ...], [89, undefined, ...], [90, undefined, ...], [91, undefined, ...], [92, undefined, ...], [93, undefined, ...], [94, undefined, ...], [95, undefined, ...], [96, undefined, ...], [97, undefined, ...], [98, undefined, ...], [99, undefined, ...], [100, undefined, ...], [101, undefined, ...], [102, undefined, ...], [103, undefined, ...], [104, undefined, ...], [105, undefined, ...], [106, undefined, ...], [107, undefined, ...], [108, undefined, ...], [109, undefined, ...], [110, undefined, ...], [111, undefined, ...], [112, undefined, ...], [113, undefined, ...], [114, undefined, ...], [115, undefined, ...], [116, undefined, ...], [117, undefined, ...], [118, undefined, ...], [119, undefined, ...], [120, undefined, ...], [121, undefined, ...], [122, undefined, ...], [123, undefined, ...], [124, undefined, ...], [125, undefined, ...], [126, undefined, ...], [127, undefined, ...], [128, undefined, ...], [129, undefined, ...], [130, undefined, ...], [131, undefined, ...], [132, undefined, ...], [133, undefined, ...], [134, undefined, ...], [135, undefined, ...], [136, undefined, ...], [137, undefined, ...], [138, undefined, ...], [139, undefined, ...], [140, undefined, ...], [141, undefined, ...], [142, undefined, ...], [143, undefined, ...], [144, undefined, ...], [145, undefined, ...], [146, undefined, ...], [147, undefined, ...], [148, undefined, ...], [149, undefined, ...], [150, undefined, ...], [151, undefined, ...], [152, undefined, ...], [153, undefined, ...], [154, undefined, ...], [155, undefined, ...], [156, undefined, ...], [157, undefined, ...], [158, undefined, ...], [159, undefined, ...], [160, undefined, ...], [161, undefined, ...], [162, undefined, ...], [163, undefined, ...], [164, undefined, ...], [165, undefined, ...], [166, undefined, ...], [167, undefined, ...], [168, undefined, ...], [169, undefined, ...], [170, undefined, ...], [171, undefined, ...], [172, undefined, ...], [173, undefined, ...], [174, undefined, ...], [175, undefined, ...], [176, undefined, ...], [177, undefined, ...], [178, undefined, ...], [179, undefined, ...], [180, undefined, ...], [181, undefined, ...], [182, undefined, ...], [183, undefined, ...], [184, undefined, ...], [185, undefined, ...], [186, undefined, ...], [187, undefined, ...], [188, undefined, ...], [189, undefined, ...], [190, undefined, ...], [191, undefined, ...], [192, undefined, ...], [193, undefined, ...], [194, undefined, ...], [195, undefined, ...], [196, undefined, ...], [197, undefined, ...], [198, undefined, ...], [199, undefined, ...], [200, undefined, ...], [201, undefined, ...], [202, undefined, ...], [203, undefined, ...], [204, undefined, ...], [205, undefined, ...], [206, undefined, ...], [207, undefined, ...], [208, undefined, ...], [209, undefined, ...], [210, undefined, ...], [211, undefined, ...], [212, undefined, ...], [213, undefined, ...], [214, undefined, ...], [215, undefined, ...], [216, undefined, ...], [217, undefined, ...], [218, undefined, ...], [219, undefined, ...], [220, undefined, ...], [221, undefined, ...], [222, undefined, ...], [223, undefined, ...], [224, undefined, ...], [225, undefined, ...], [226, undefined, ...], [227, undefined, ...], [228, undefined, ...], [229, undefined, ...], [230, undefined, ...], [231, undefined, ...], [232, undefined, ...], [233, undefined, ...], [234, undefined, ...], [235, undefined, ...], [236, undefined, ...], [237, undefined, ...], [238, undefined, ...], [239, undefined, ...], [240, undefined, ...], [241, undefined, ...], [242, undefined, ...], [243, undefined, ...], [244, undefined, ...], [245, undefined, ...], [246, undefined, ...], [247, undefined, ...], [248, undefined, ...], [249, undefined, ...], [250, undefined, ...], [251, undefined, ...], [252, undefined, ...], [253, undefined, ...], [254, undefined, ...], [255, undefined, ...], [256, undefined, ...], [257, undefined, ...], [258, undefined, ...], [259, undefined, ...], [260, undefined, ...], [261, undefined, ...], [262, undefined, ...], [263, undefined, ...], [264, undefined, ...], [265, undefined, ...], [266, undefined, ...], [267, undefined, ...], [268, undefined, ...], [269, undefined, ...], [270, undefined, ...], [271, undefined, ...], [272, undefined, ...], [273, undefined, ...], [274, undefined, ...], [275, undefined, ...], [276, undefined, ...], [277, undefined, ...], [278, undefined, ...], [279, undefined, ...], [280, undefined, ...], [281, undefined, ...], [282, undefined, ...], [283, undefined, ...], [284, undefined, ...], [285, undefined, ...], [286, undefined, ...], [287, undefined, ...], [288, undefined, ...], [289, undefined, ...], [290, undefined, ...], [291, undefined, ...], [292, undefined, ...], [293, undefined, ...], [294, undefined, ...], [295, undefined, ...], [296, undefined, ...], [297, undefined, ...], [298, undefined, ...], [299, undefined, ...], [300, undefined, ...], [301, undefined, ...], [302, undefined, ...], [303, undefined, ...], [304, undefined, ...], [305, undefined, ...], [306, undefined, ...], [307, undefined, ...], [308, undefined, ...], [309, undefined, ...], [310, undefined, ...], [311, undefined, ...], [312, undefined, ...], [313, undefined, ...], [314, undefined, ...], [315, undefined, ...], [316, undefined, ...], [317, undefined, ...], [318, undefined, ...], [319, undefined, ...], [320, undefined, ...], [321, undefined, ...], [322, undefined, ...], [323, undefined, ...], [324, undefined, ...], [325, undefined, ...], [326, undefined, ...], [327, undefined, ...], [328, undefined, ...], [329, undefined, ...], [330, undefined, ...], [331, undefined, ...], [332, undefined, ...], [333, undefined, ...], [334, undefined, ...], [335, undefined, ...], [336, undefined, ...], [337, undefined, ...], [338, undefined, ...], [339, undefined, ...], [340, undefined, ...], [341, undefined, ...], [342, undefined, ...], [343, undefined, ...], [344, undefined, ...], [345, undefined, ...], [346, undefined, ...], [347, undefined, ...], [348, undefined, ...], [349, undefined, ...], [350, undefined, ...], [351, undefined, ...], [352, undefined, ...], [353, undefined, ...], [354, undefined, ...], [355, undefined, ...], [356, undefined, ...], [357, undefined, ...], [358, undefined, ...], [359, undefined, ...], [360, undefined, ...], [361, undefined, ...], [362, undefined, ...], [363, undefined, ...], [364, undefined, ...], [365, undefined, ...], [366, undefined, ...], [367, undefined, ...], [368, undefined, ...], [369, undefined, ...], [370, undefined, ...], [371, undefined, ...], [372, undefined, ...], [373, undefined, ...], [374, undefined, ...], [375, undefined, ...], [376, undefined, ...], [377, undefined, ...], [378, undefined, ...], [379, undefined, ...], [380, undefined, ...], [381, undefined, ...], [382, undefined, ...], [383, undefined, ...], [384, undefined, ...], [385, undefined, ...], [386, undefined, ...], [387, undefined, ...], [388, undefined, ...], [389, undefined, ...], [390, undefined, ...], [391, undefined, ...], [392, undefined, ...], [393, undefined, ...], [394, undefined, ...], [395, undefined, ...], [396, undefined, ...], [397, undefined, ...], [398, undefined, ...], [399, undefined, ...], [400, undefined, ...], [401, undefined, ...], [402, undefined, ...], [403, undefined, ...], [404, undefined, ...], [405, undefined, ...], [406, undefined, ...], [407, undefined, ...], [408, undefined, ...], [409, undefined, ...], [410, undefined, ...], [411, undefined, ...], [412, undefined, ...], [413, undefined, ...], [414, undefined, ...], [415, undefined, ...], [416, undefined, ...], [417, undefined, ...], [418, undefined, ...], [419, undefined, ...], [420, undefined, ...], [421, undefined, ...], [422, undefined, ...], [423, undefined, ...], [424, undefined, ...], [425, undefined, ...], [426, undefined, ...], [427, undefined, ...], [428, undefined, ...], [429, undefined, ...], [430, undefined, ...], [431, undefined, ...], [432, undefined, ...], [433, undefined, ...], [434, undefined, ...], [435, undefined, ...], [436, undefined, ...], [437, undefined, ...], [438, undefined, ...], [439, undefi'... 228890 more characters"
      ]
     },
     "execution_count": 2,
     "metadata": {},
     "output_type": "execute_result"
    }
   ],
   "source": [
    "function formatMultidimensionalArray(arr, shape) {\n",
    "  let result = '[';\n",
    "  const length = shape.reduce((acc, val) => acc * val, 1);\n",
    "\n",
    "  for (let i = 0; i < length; i++) {\n",
    "    result += '[';\n",
    "    let innerShape = shape.slice();\n",
    "    let innerArr = arr.slice();\n",
    "\n",
    "    for (let j = 0; j < innerShape.length; j++) {\n",
    "      result += innerArr[i] + ', ';\n",
    "\n",
    "      // Remove the processed element from innerArr and reduce the shape\n",
    "      innerArr = innerArr[i];\n",
    "      innerShape.shift();\n",
    "\n",
    "      if (innerShape.length === 0) {\n",
    "        result = result.slice(0, -2); // Remove the trailing comma and space\n",
    "        break;\n",
    "      }\n",
    "    }\n",
    "\n",
    "    if (innerShape.length > 0) {\n",
    "      result += '...';\n",
    "    }\n",
    "\n",
    "    result += '], ';\n",
    "  }\n",
    "\n",
    "  result = result.slice(0, -2); // Remove the trailing comma and space\n",
    "  result += ']';\n",
    "\n",
    "  return result;\n",
    "}\n",
    "\n",
    "// Example usage:\n",
    "var flatArray = Array.from({length:10000}, (_,i)=>i);\n",
    "var shape = [2, 5, 2, 500];\n",
    "\n",
    "formatMultidimensionalArray(flatArray, shape);\n"
   ]
  },
  {
   "cell_type": "code",
   "execution_count": 32,
   "metadata": {},
   "outputs": [
    {
     "name": "stdout",
     "output_type": "stream",
     "text": [
      " Name, Age,         City \n",
      " John,  25,     New York \n",
      "Alice,  30,  Los Angeles \n",
      "  Bob,  22,      Chicago \n",
      "\n"
     ]
    }
   ],
   "source": [
    "function alignColumns(inputString, delimiter = ',') {\n",
    "  // Split the input string into rows\n",
    "  const rows = inputString.split('\\n');\n",
    "  // Initialize an array to store the maximum width of each column\n",
    "  const columnWidths = Array(rows[0].split(delimiter).length).fill(0);\n",
    "  // Find the maximum width for each column\n",
    "  for (const row of rows) {\n",
    "    let columns = row.split(delimiter);\n",
    "    for (let i = 0; i < columns.length; i++) {\n",
    "      columnWidths[i] = Math.max(columnWidths[i], columns[i].trim().length);\n",
    "    }\n",
    "  }\n",
    "  // Build the formatted output\n",
    "  let formattedString = '';\n",
    "  for (const row of rows) {\n",
    "    let columns = row.split(delimiter);\n",
    "    columns = columns.map((s, i) => i == columns.length - 1 ? s : s + delimiter);\n",
    "    for (let i = 0; i < columns.length; i++) {\n",
    "      const column = columns[i].trim();\n",
    "      formattedString += column.padStart(columnWidths[i] + 1).padEnd(columnWidths[i] + 2);\n",
    "    }\n",
    "    formattedString += '\\n';\n",
    "  }\n",
    "\n",
    "  return formattedString;\n",
    "}\n",
    "\n",
    "// Example usage:\n",
    "var inputString = \"Name,Age,City\\nJohn,25,New York\\nAlice,30,Los Angeles\\nBob,22,Chicago\";\n",
    "var formattedString = alignColumns(inputString, ',');\n",
    "console.log(formattedString);\n"
   ]
  },
  {
   "cell_type": "code",
   "execution_count": 50,
   "metadata": {},
   "outputs": [
    {
     "name": "stdout",
     "output_type": "stream",
     "text": [
      "4\n",
      "2\n"
     ]
    }
   ],
   "source": [
    "var s  = `Arr([[[[0], [1], [2], [3], [4], [5], [6], [7], [8], [9]],\n",
    "  [[10], [11], [12], [13], [14], [15], [16], [17], [18], [19]],\n",
    "  [[20], [21], [22], [23], [24], [25], [26], [27], [28], [29]],\n",
    "  [[30], [31], [32], [33], [34], [35], [36], [37], [38], [39]],\n",
    "  [[40], [41], [42], [43], [44], [45], [46], [47], [48], [49]],\n",
    "  [[50], [51], [52], [53], [54], [55], [56], [57], [58], [59]],\n",
    "  [[60], [61], [62], [63], [64], [65], [66], [67], [68], [69]],\n",
    "  [[70], [71], [72], [73], [74], [75], [76], [77], [78], [79]],\n",
    "  [[80], [81], [82], [83], [84], [85], [86], [87], [88], [89]],\n",
    "  [[90], [91], [92], [93], [94], [95], [96], [97], [98], [99]]],\n",
    " ...,\n",
    " [[[9900], [9901], [9902], [9903], [9904], [9905], [9906], [9907], [9908], [9909]],\n",
    "  [[9910], [9911], [9912], [9913], [9914], [9915], [9916], [9917], [9918], [9919]],\n",
    "  [[9920], [9921], [9922], [9923], [9924], [9925], [9926], [9927], [9928], [9929]],\n",
    "  [[9930], [9931], [9932], [9933], [9934], [9935], [9936], [9937], [9938], [9939]],\n",
    "  [[9940], [9941], [9942], [9943], [9944], [9945], [9946], [9947], [9948], [9949]],\n",
    "  [[9950], [9951], [9952], [9953], [9954], [9955], [9956], [9957], [9958], [9959]],\n",
    "  [[9960], [9961], [9962], [9963], [9964], [9965], [9966], [9967], [9968], [9969]],\n",
    "  [[9970], [9971], [9972], [9973], [9974], [9975], [9976], [9977], [9978], [9979]],\n",
    "  [[9980], [9981], [9982], [9983], [9984], [9985], [9986], [9987], [9988], [9989]],\n",
    "  [[9990], [9991], [9992], [9993], [9994], [9995], [9996], [9997], [9998], [9999]]\n",
    "`;\n",
    "\n",
    "s = alignColumns(s, ',');\n",
    "\n",
    "var nBrackets1 = s.match(/.*?\\((\\[*)/)[1].length;\n",
    "var nBrackets2 = s.match(/.*?\\n\\s*(\\[*)/)[1].length;\n",
    "console.log(nBrackets1)\n",
    "console.log(nBrackets2)\n",
    "\n",
    "// s.match(new RegExp('.*'+'\\['.repeat(nBrackets)))\n",
    "\n",
    "\n",
    "//console.log(s)\n"
   ]
  },
  {
   "cell_type": "code",
   "execution_count": 64,
   "metadata": {},
   "outputs": [
    {
     "name": "stdout",
     "output_type": "stream",
     "text": [
      "true\n",
      "true\n",
      "true\n",
      "true\n"
     ]
    }
   ],
   "source": [
    "var MyArray = require('../index');\n",
    "var a =  MyArray.prototype.zeros([20,20])\n",
    "\n",
    "MyArray.prototype.test = function(A){\n",
    "  if(this instanceof MyArray) return MyArray.prototype.test(this,...arguments)\n",
    "  console.log(this===MyArray.prototype)\n",
    "  console.log(A===a)\n",
    "}\n",
    "MyArray.prototype.testFactory = function(){\n",
    "  return function(A){\n",
    "    if(this instanceof MyArray) return MyArray.prototype.test(this,...arguments)\n",
    "    console.log(this===MyArray.prototype)\n",
    "    console.log(A===a)\n",
    "  }\n",
    "}\n",
    "MyArray.prototype.test2 = MyArray.prototype.testFactory()\n",
    "\n",
    "\n",
    "a.test()\n",
    "a.test()\n",
    "\n",
    "\n"
   ]
  },
  {
   "cell_type": "code",
   "execution_count": null,
   "metadata": {},
   "outputs": [],
   "source": []
  },
  {
   "cell_type": "code",
   "execution_count": null,
   "metadata": {},
   "outputs": [],
   "source": []
  },
  {
   "cell_type": "code",
   "execution_count": null,
   "metadata": {},
   "outputs": [],
   "source": []
  },
  {
   "cell_type": "code",
   "execution_count": null,
   "metadata": {},
   "outputs": [],
   "source": []
  },
  {
   "cell_type": "code",
   "execution_count": null,
   "metadata": {},
   "outputs": [],
   "source": []
  }
 ],
 "metadata": {
  "kernelspec": {
   "display_name": "JavaScript (Node.js)",
   "language": "javascript",
   "name": "javascript"
  },
  "language_info": {
   "file_extension": ".js",
   "mimetype": "application/javascript",
   "name": "javascript",
   "version": "18.17.0"
  },
  "orig_nbformat": 4
 },
 "nbformat": 4,
 "nbformat_minor": 2
}
