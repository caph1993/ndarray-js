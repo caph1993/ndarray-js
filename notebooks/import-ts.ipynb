{
 "cells": [
  {
   "cell_type": "code",
   "execution_count": 2,
   "metadata": {},
   "outputs": [
    {
     "name": "stdout",
     "output_type": "stream",
     "text": [
      "0.5553999242355463\n",
      "false\n",
      "[Function: o]\n",
      "[Function (anonymous)] {\n",
      "  NDArray: [Function: o],\n",
      "  transpose: [Function (anonymous)],\n",
      "  fromJS: [Function (anonymous)],\n",
      "  JS: [Function (anonymous)]\n",
      "}\n",
      "undefined\n",
      "[ 'NDArray', 'transpose', 'fromJS', 'JS' ]\n"
     ]
    }
   ],
   "source": [
    "//@ts-check\n",
    "console.log(Math.random())\n",
    "var oldNP;\n",
    "var np = require('../dist/caph1993-numpy-js.js').default;\n",
    "console.log(np===oldNP)\n",
    "oldNP = np;\n",
    "console.log(np.NDArray)\n",
    "console.log(np)\n",
    "console.log(np.default)\n",
    "console.log(Object.keys(np))"
   ]
  },
  {
   "cell_type": "code",
   "execution_count": 7,
   "metadata": {},
   "outputs": [
    {
     "data": {
      "text/plain": [
       "o {\n",
       "  shape: [ 10 ],\n",
       "  _flat: [\n",
       "    1, 2, 3, 4,  5,\n",
       "    6, 7, 8, 9, 10\n",
       "  ],\n",
       "  dtype: [Function: Number],\n",
       "  _simpleIndexes: null\n",
       "}"
      ]
     },
     "execution_count": 7,
     "metadata": {},
     "output_type": "execute_result"
    }
   ],
   "source": [
    "new np.NDArray([1,2,3,4,5,6,7,8,9,10], [10])"
   ]
  }
 ],
 "metadata": {
  "kernelspec": {
   "display_name": "JavaScript (Node.js)",
   "language": "javascript",
   "name": "javascript"
  },
  "language_info": {
   "file_extension": ".js",
   "mimetype": "application/javascript",
   "name": "javascript",
   "version": "18.17.0"
  },
  "orig_nbformat": 4
 },
 "nbformat": 4,
 "nbformat_minor": 2
}
