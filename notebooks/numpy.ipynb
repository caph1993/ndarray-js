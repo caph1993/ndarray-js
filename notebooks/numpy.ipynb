{
 "cells": [
  {
   "cell_type": "code",
   "execution_count": 26,
   "metadata": {},
   "outputs": [
    {
     "ename": "Error",
     "evalue": "Unrecognized method sum",
     "output_type": "error",
     "traceback": [
      "/mnt/data/documents/projects/numpy-js/core-grammar.js:172",
      "      if (func === undefined) throw new Error(`Unrecognized method ${name}`)",
      "                              ^",
      "",
      "Error: Unrecognized method sum",
      "    at Semantics.Wrapper.Arr_method (/mnt/data/documents/projects/numpy-js/core-grammar.js:172:37)",
      "    at Operation.execute (/mnt/data/documents/projects/numpy-js/node_modules/.pnpm/ohm-js@17.1.0/node_modules/ohm-js/dist/ohm.cjs:4296:25)",
      "    at Semantics.Wrapper.doIt [as parse] (/mnt/data/documents/projects/numpy-js/node_modules/.pnpm/ohm-js@17.1.0/node_modules/ohm-js/dist/ohm.cjs:4030:29)",
      "    at Semantics.Wrapper.<anonymous> (/mnt/data/documents/projects/numpy-js/node_modules/.pnpm/ohm-js@17.1.0/node_modules/ohm-js/dist/ohm.cjs:4149:19)",
      "    at Operation.execute (/mnt/data/documents/projects/numpy-js/node_modules/.pnpm/ohm-js@17.1.0/node_modules/ohm-js/dist/ohm.cjs:4312:39)",
      "    at Semantics.Wrapper.doIt [as parse] (/mnt/data/documents/projects/numpy-js/node_modules/.pnpm/ohm-js@17.1.0/node_modules/ohm-js/dist/ohm.cjs:4030:29)",
      "    at Semantics.Wrapper.<anonymous> (/mnt/data/documents/projects/numpy-js/node_modules/.pnpm/ohm-js@17.1.0/node_modules/ohm-js/dist/ohm.cjs:4149:19)",
      "    at Operation.execute (/mnt/data/documents/projects/numpy-js/node_modules/.pnpm/ohm-js@17.1.0/node_modules/ohm-js/dist/ohm.cjs:4312:39)",
      "    at Semantics.Wrapper.doIt [as parse] (/mnt/data/documents/projects/numpy-js/node_modules/.pnpm/ohm-js@17.1.0/node_modules/ohm-js/dist/ohm.cjs:4030:29)",
      "    at Semantics.Wrapper.BinaryOperation (/mnt/data/documents/projects/numpy-js/core-grammar.js:231:18)"
     ]
    }
   ],
   "source": [
    "//@ts-check\n",
    "\n",
    "var np = require('../index');\n",
    "\n",
    "\n",
    "//np.grammar.parseJS`np.ones((3,3)).sum(axis=None)`\n",
    "np`np.array([[1,2],[3,6],[9,10]]).sum(axis=0)`.toJS()\n",
    "\n",
    "\n",
    "var a = np`np.array(([1,2], [3,6], [9, 10]))`\n",
    "np`${a.toJS()}.sum(axis=0)`\n"
   ]
  },
  {
   "cell_type": "code",
   "execution_count": 32,
   "metadata": {},
   "outputs": [
    {
     "ename": "Error",
     "evalue": "Unrecognized method sum",
     "output_type": "error",
     "traceback": [
      "/mnt/data/documents/projects/numpy-js/core-grammar.js:172",
      "      if (func === undefined) throw new Error(`Unrecognized method ${name}`)",
      "                              ^",
      "",
      "Error: Unrecognized method sum",
      "    at Semantics.Wrapper.Arr_method (/mnt/data/documents/projects/numpy-js/core-grammar.js:172:37)",
      "    at Operation.execute (/mnt/data/documents/projects/numpy-js/node_modules/.pnpm/ohm-js@17.1.0/node_modules/ohm-js/dist/ohm.cjs:4296:25)",
      "    at Semantics.Wrapper.doIt [as parse] (/mnt/data/documents/projects/numpy-js/node_modules/.pnpm/ohm-js@17.1.0/node_modules/ohm-js/dist/ohm.cjs:4030:29)",
      "    at Semantics.Wrapper.<anonymous> (/mnt/data/documents/projects/numpy-js/node_modules/.pnpm/ohm-js@17.1.0/node_modules/ohm-js/dist/ohm.cjs:4149:19)",
      "    at Operation.execute (/mnt/data/documents/projects/numpy-js/node_modules/.pnpm/ohm-js@17.1.0/node_modules/ohm-js/dist/ohm.cjs:4312:39)",
      "    at Semantics.Wrapper.doIt [as parse] (/mnt/data/documents/projects/numpy-js/node_modules/.pnpm/ohm-js@17.1.0/node_modules/ohm-js/dist/ohm.cjs:4030:29)",
      "    at Semantics.Wrapper.<anonymous> (/mnt/data/documents/projects/numpy-js/node_modules/.pnpm/ohm-js@17.1.0/node_modules/ohm-js/dist/ohm.cjs:4149:19)",
      "    at Operation.execute (/mnt/data/documents/projects/numpy-js/node_modules/.pnpm/ohm-js@17.1.0/node_modules/ohm-js/dist/ohm.cjs:4312:39)",
      "    at Semantics.Wrapper.doIt [as parse] (/mnt/data/documents/projects/numpy-js/node_modules/.pnpm/ohm-js@17.1.0/node_modules/ohm-js/dist/ohm.cjs:4030:29)",
      "    at Semantics.Wrapper.BinaryOperation (/mnt/data/documents/projects/numpy-js/core-grammar.js:231:18)"
     ]
    }
   ],
   "source": [
    "np`np.array(${a.toJS()}).sum(axis=0)`\n",
    "\n",
    "np`${a.toJS()}.sum(axis=0)`"
   ]
  },
  {
   "cell_type": "code",
   "execution_count": null,
   "metadata": {},
   "outputs": [],
   "source": []
  },
  {
   "cell_type": "code",
   "execution_count": null,
   "metadata": {},
   "outputs": [],
   "source": []
  },
  {
   "cell_type": "code",
   "execution_count": null,
   "metadata": {},
   "outputs": [],
   "source": []
  },
  {
   "cell_type": "code",
   "execution_count": 67,
   "metadata": {},
   "outputs": [
    {
     "data": {
      "text/plain": [
       "[ [ [ [Array] ], [ [Array] ] ], [ [ [Array] ], [ [Array] ] ] ]"
      ]
     },
     "execution_count": 67,
     "metadata": {},
     "output_type": "execute_result"
    }
   ],
   "source": [
    "\n",
    "// Unit tests:\n",
    "\n",
    "npTest`np.linspace(0, 1, 10)`\n",
    "npTest`np.linspace(0.5, 1.3, 10)`\n",
    "npTest`np.geomspace(32, 45, 13)`\n",
    "npTest`np.linspace(200, -45.3, 100)`\n",
    "npTest`np.exp(${np`np.linspace(3, 6.5, 10)`})`\n",
    "\n",
    "npTest`np.arange(120).reshape([-1,3])`\n",
    "npTest`np.arange(120).reshape((-1,3))`\n",
    "npTest`np.arange(120).reshape(-1,3)`\n",
    "\n",
    "npTest`np.arange(120).reshape(2,3,4,5)[..., np.arange(12).reshape((3,4))<5, None, :]`\n",
    "npTest`np.linspace(0,1,120, endpoint=True).reshape(2,3,4,5)[..., np.arange(12).reshape((3,4))<3, 0]`\n",
    "npTest`np.linspace(0,1,120, endpoint=True).reshape(2,3,20)[..., 1]`\n",
    "\n",
    "npTest`-1**2`\n",
    "npTest`2**-0.5`\n",
    "npTest`2**-0.5**2`\n",
    "npTest`2**-0.5*2`\n",
    "npTest`2**-(0.5)`\n",
    "\n",
    "npTest`-1**2`\n",
    "npTest`2**-0.5`\n",
    "npTest`2**-0.5**2`\n",
    "npTest`2**-0.5*2`\n",
    "npTest`2**-(0.5)`\n",
    "\n",
    "npTest`np.arange(120).reshape([-1,3])`\n",
    "npTest`np.arange(120).reshape((-1,3))`\n",
    "npTest`np.arange(120).reshape(-1,3)`\n",
    "npTest`np.zeros(3)`\n",
    "npTest`np.zeros(${[3, 5, 4]})`\n",
    "npTest`np.sum(np.ones(${[10, 2]}), axis=0, keepdims=True) + np.arange(2)`\n",
    "npTest`np.ravel(np.reshape( np.arange(120), ${[2, 3, 4, 5]} ))`\n",
    "npTest`np.ravel(np.reshape( np.arange(120), ${[2, 3, 4, 5]} )[ :, 0, ${[1, 2]}, : ])`\n",
    "npTest`np.ravel([[1,2], [3, 4]])`\n",
    "npTest`np.arange(120).reshape((2,3,4,5))[:,0,[1,2],None,:].shape`\n",
    "npTest`np.arange(120).reshape([2,3,4,5])[:,0,[1,2],:].shape`\n",
    "npTest`np.arange(120).std()`\n",
    "\n",
    "var a = npTest`np.array(([1,2], [3,6], [9, 10]))`\n",
    "npTest`${a}.sum(axis=0)`\n",
    "npTest`${a}.sum(axis=1)`\n",
    "var a = npTest`np.array([[1,2], [2,4], [3,6]])`\n",
    "npTest`${a}.sum(axis=0)`\n",
    "npTest`${a}.sum(axis=1)`\n",
    "npTest`${a}.sum(axis=0, keepdims=True)`\n",
    "npTest`${a}.sum(axis=1, keepdims=True)`\n",
    "npTest`${a}.sum(axis=0, keepdims=False)`\n",
    "\n",
    "var a = npTest`np.arange(12).reshape([2, 3, 2])`\n",
    "npTest`${a}.sum(axis=0)`\n",
    "npTest`${a}.sum(axis=1)`\n",
    "npTest`${a}.sum(axis=-1)`\n",
    "\n",
    "var a = npTest`np.arange(6).reshape([2, 3])`\n",
    "npTest`${a} * ${a}`\n",
    "npTest`2 * ${a}`\n",
    "npTest`-(${a} * ${a})`\n",
    "npTest`-(${a} * ${a}).sum(axis=0, keepdims=True)`\n",
    "npTest`-${a} * ${a}.sum(axis=0, keepdims=True)`\n",
    "npTest`-(${a} * ${a}).sum(axis=-1, keepdims=True)`\n",
    "npTest`np.sum(np.ones(np.array([10,2])), axis=0, keepdims=True) + np.arange(2)`\n",
    "\n",
    "npTest`np.arange(120).reshape([2,3,4,5])[:,0,[1,2],None,:].shape`\n",
    "\n",
    "npTest`np.arange(120).reshape([2,3,4,5])[:,0,[1,2],None,:]`\n"
   ]
  },
  {
   "cell_type": "code",
   "execution_count": 7,
   "metadata": {},
   "outputs": [],
   "source": []
  },
  {
   "cell_type": "code",
   "execution_count": 68,
   "metadata": {},
   "outputs": [
    {
     "data": {
      "text/html": [
       "<svg width=\"460\" height=\"400\"><g transform=\"translate(60,10)\"><g transform=\"translate(0,360)\" fill=\"none\" font-size=\"10\" font-family=\"sans-serif\" text-anchor=\"middle\"><path class=\"domain\" stroke=\"currentColor\" d=\"M0.5,6V0.5H370.5V6\"></path><g class=\"tick\" opacity=\"1\" transform=\"translate(0.5,0)\"><line stroke=\"currentColor\" y2=\"6\"></line><text fill=\"currentColor\" y=\"9\" dy=\"0.71em\">0.0</text></g><g class=\"tick\" opacity=\"1\" transform=\"translate(37.5,0)\"><line stroke=\"currentColor\" y2=\"6\"></line><text fill=\"currentColor\" y=\"9\" dy=\"0.71em\">0.1</text></g><g class=\"tick\" opacity=\"1\" transform=\"translate(74.5,0)\"><line stroke=\"currentColor\" y2=\"6\"></line><text fill=\"currentColor\" y=\"9\" dy=\"0.71em\">0.2</text></g><g class=\"tick\" opacity=\"1\" transform=\"translate(111.5,0)\"><line stroke=\"currentColor\" y2=\"6\"></line><text fill=\"currentColor\" y=\"9\" dy=\"0.71em\">0.3</text></g><g class=\"tick\" opacity=\"1\" transform=\"translate(148.5,0)\"><line stroke=\"currentColor\" y2=\"6\"></line><text fill=\"currentColor\" y=\"9\" dy=\"0.71em\">0.4</text></g><g class=\"tick\" opacity=\"1\" transform=\"translate(185.5,0)\"><line stroke=\"currentColor\" y2=\"6\"></line><text fill=\"currentColor\" y=\"9\" dy=\"0.71em\">0.5</text></g><g class=\"tick\" opacity=\"1\" transform=\"translate(222.5,0)\"><line stroke=\"currentColor\" y2=\"6\"></line><text fill=\"currentColor\" y=\"9\" dy=\"0.71em\">0.6</text></g><g class=\"tick\" opacity=\"1\" transform=\"translate(259.5,0)\"><line stroke=\"currentColor\" y2=\"6\"></line><text fill=\"currentColor\" y=\"9\" dy=\"0.71em\">0.7</text></g><g class=\"tick\" opacity=\"1\" transform=\"translate(296.5,0)\"><line stroke=\"currentColor\" y2=\"6\"></line><text fill=\"currentColor\" y=\"9\" dy=\"0.71em\">0.8</text></g><g class=\"tick\" opacity=\"1\" transform=\"translate(333.5,0)\"><line stroke=\"currentColor\" y2=\"6\"></line><text fill=\"currentColor\" y=\"9\" dy=\"0.71em\">0.9</text></g><g class=\"tick\" opacity=\"1\" transform=\"translate(370.5,0)\"><line stroke=\"currentColor\" y2=\"6\"></line><text fill=\"currentColor\" y=\"9\" dy=\"0.71em\">1.0</text></g></g><g fill=\"none\" font-size=\"10\" font-family=\"sans-serif\" text-anchor=\"end\"><path class=\"domain\" stroke=\"currentColor\" d=\"M-6,360.5H0.5V0.5H-6\"></path><g class=\"tick\" opacity=\"1\" transform=\"translate(0,360.5)\"><line stroke=\"currentColor\" x2=\"-6\"></line><text fill=\"currentColor\" x=\"-9\" dy=\"0.32em\">0.0</text></g><g class=\"tick\" opacity=\"1\" transform=\"translate(0,324.5)\"><line stroke=\"currentColor\" x2=\"-6\"></line><text fill=\"currentColor\" x=\"-9\" dy=\"0.32em\">0.1</text></g><g class=\"tick\" opacity=\"1\" transform=\"translate(0,288.5)\"><line stroke=\"currentColor\" x2=\"-6\"></line><text fill=\"currentColor\" x=\"-9\" dy=\"0.32em\">0.2</text></g><g class=\"tick\" opacity=\"1\" transform=\"translate(0,252.49999999999997)\"><line stroke=\"currentColor\" x2=\"-6\"></line><text fill=\"currentColor\" x=\"-9\" dy=\"0.32em\">0.3</text></g><g class=\"tick\" opacity=\"1\" transform=\"translate(0,216.5)\"><line stroke=\"currentColor\" x2=\"-6\"></line><text fill=\"currentColor\" x=\"-9\" dy=\"0.32em\">0.4</text></g><g class=\"tick\" opacity=\"1\" transform=\"translate(0,180.5)\"><line stroke=\"currentColor\" x2=\"-6\"></line><text fill=\"currentColor\" x=\"-9\" dy=\"0.32em\">0.5</text></g><g class=\"tick\" opacity=\"1\" transform=\"translate(0,144.5)\"><line stroke=\"currentColor\" x2=\"-6\"></line><text fill=\"currentColor\" x=\"-9\" dy=\"0.32em\">0.6</text></g><g class=\"tick\" opacity=\"1\" transform=\"translate(0,108.50000000000001)\"><line stroke=\"currentColor\" x2=\"-6\"></line><text fill=\"currentColor\" x=\"-9\" dy=\"0.32em\">0.7</text></g><g class=\"tick\" opacity=\"1\" transform=\"translate(0,72.49999999999999)\"><line stroke=\"currentColor\" x2=\"-6\"></line><text fill=\"currentColor\" x=\"-9\" dy=\"0.32em\">0.8</text></g><g class=\"tick\" opacity=\"1\" transform=\"translate(0,36.49999999999999)\"><line stroke=\"currentColor\" x2=\"-6\"></line><text fill=\"currentColor\" x=\"-9\" dy=\"0.32em\">0.9</text></g><g class=\"tick\" opacity=\"1\" transform=\"translate(0,0.5)\"><line stroke=\"currentColor\" x2=\"-6\"></line><text fill=\"currentColor\" x=\"-9\" dy=\"0.32em\">1.0</text></g></g><g><circle cx=\"0\" cy=\"360\" r=\"1.5\" style=\"fill: #69b3a2;\"></circle><circle cx=\"3.737373737373738\" cy=\"359.9632690541781\" r=\"1.5\" style=\"fill: #69b3a2;\"></circle><circle cx=\"7.474747474747476\" cy=\"359.85307621671257\" r=\"1.5\" style=\"fill: #69b3a2;\"></circle><circle cx=\"11.212121212121213\" cy=\"359.6694214876033\" r=\"1.5\" style=\"fill: #69b3a2;\"></circle><circle cx=\"14.949494949494952\" cy=\"359.4123048668503\" r=\"1.5\" style=\"fill: #69b3a2;\"></circle><circle cx=\"18.68686868686869\" cy=\"359.0817263544536\" r=\"1.5\" style=\"fill: #69b3a2;\"></circle><circle cx=\"22.424242424242426\" cy=\"358.67768595041326\" r=\"1.5\" style=\"fill: #69b3a2;\"></circle><circle cx=\"26.161616161616166\" cy=\"358.20018365472913\" r=\"1.5\" style=\"fill: #69b3a2;\"></circle><circle cx=\"29.898989898989903\" cy=\"357.6492194674013\" r=\"1.5\" style=\"fill: #69b3a2;\"></circle><circle cx=\"33.63636363636364\" cy=\"357.02479338842977\" r=\"1.5\" style=\"fill: #69b3a2;\"></circle><circle cx=\"37.37373737373738\" cy=\"356.3269054178145\" r=\"1.5\" style=\"fill: #69b3a2;\"></circle><circle cx=\"41.111111111111114\" cy=\"355.55555555555554\" r=\"1.5\" style=\"fill: #69b3a2;\"></circle><circle cx=\"44.84848484848485\" cy=\"354.7107438016529\" r=\"1.5\" style=\"fill: #69b3a2;\"></circle><circle cx=\"48.58585858585859\" cy=\"353.7924701561065\" r=\"1.5\" style=\"fill: #69b3a2;\"></circle><circle cx=\"52.32323232323233\" cy=\"352.80073461891647\" r=\"1.5\" style=\"fill: #69b3a2;\"></circle><circle cx=\"56.06060606060606\" cy=\"351.73553719008265\" r=\"1.5\" style=\"fill: #69b3a2;\"></circle><circle cx=\"59.79797979797981\" cy=\"350.5968778696052\" r=\"1.5\" style=\"fill: #69b3a2;\"></circle><circle cx=\"63.53535353535354\" cy=\"349.38475665748393\" r=\"1.5\" style=\"fill: #69b3a2;\"></circle><circle cx=\"67.27272727272728\" cy=\"348.099173553719\" r=\"1.5\" style=\"fill: #69b3a2;\"></circle><circle cx=\"71.01010101010101\" cy=\"346.7401285583104\" r=\"1.5\" style=\"fill: #69b3a2;\"></circle><circle cx=\"74.74747474747475\" cy=\"345.307621671258\" r=\"1.5\" style=\"fill: #69b3a2;\"></circle><circle cx=\"78.48484848484848\" cy=\"343.80165289256195\" r=\"1.5\" style=\"fill: #69b3a2;\"></circle><circle cx=\"82.22222222222223\" cy=\"342.22222222222223\" r=\"1.5\" style=\"fill: #69b3a2;\"></circle><circle cx=\"85.95959595959597\" cy=\"340.56932966023874\" r=\"1.5\" style=\"fill: #69b3a2;\"></circle><circle cx=\"89.6969696969697\" cy=\"338.8429752066116\" r=\"1.5\" style=\"fill: #69b3a2;\"></circle><circle cx=\"93.43434343434345\" cy=\"337.04315886134066\" r=\"1.5\" style=\"fill: #69b3a2;\"></circle><circle cx=\"97.17171717171718\" cy=\"335.16988062442607\" r=\"1.5\" style=\"fill: #69b3a2;\"></circle><circle cx=\"100.90909090909092\" cy=\"333.22314049586777\" r=\"1.5\" style=\"fill: #69b3a2;\"></circle><circle cx=\"104.64646464646466\" cy=\"331.20293847566575\" r=\"1.5\" style=\"fill: #69b3a2;\"></circle><circle cx=\"108.38383838383838\" cy=\"329.10927456382\" r=\"1.5\" style=\"fill: #69b3a2;\"></circle><circle cx=\"112.12121212121212\" cy=\"326.9421487603306\" r=\"1.5\" style=\"fill: #69b3a2;\"></circle><circle cx=\"115.85858585858587\" cy=\"324.70156106519744\" r=\"1.5\" style=\"fill: #69b3a2;\"></circle><circle cx=\"119.59595959595961\" cy=\"322.38751147842055\" r=\"1.5\" style=\"fill: #69b3a2;\"></circle><circle cx=\"123.33333333333334\" cy=\"320\" r=\"1.5\" style=\"fill: #69b3a2;\"></circle><circle cx=\"127.07070707070709\" cy=\"317.5390266299357\" r=\"1.5\" style=\"fill: #69b3a2;\"></circle><circle cx=\"130.80808080808083\" cy=\"315.00459136822775\" r=\"1.5\" style=\"fill: #69b3a2;\"></circle><circle cx=\"134.54545454545456\" cy=\"312.39669421487605\" r=\"1.5\" style=\"fill: #69b3a2;\"></circle><circle cx=\"138.2828282828283\" cy=\"309.71533516988063\" r=\"1.5\" style=\"fill: #69b3a2;\"></circle><circle cx=\"142.02020202020202\" cy=\"306.9605142332415\" r=\"1.5\" style=\"fill: #69b3a2;\"></circle><circle cx=\"145.75757575757578\" cy=\"304.13223140495865\" r=\"1.5\" style=\"fill: #69b3a2;\"></circle><circle cx=\"149.4949494949495\" cy=\"301.23048668503213\" r=\"1.5\" style=\"fill: #69b3a2;\"></circle><circle cx=\"153.23232323232327\" cy=\"298.25528007346185\" r=\"1.5\" style=\"fill: #69b3a2;\"></circle><circle cx=\"156.96969696969697\" cy=\"295.20661157024796\" r=\"1.5\" style=\"fill: #69b3a2;\"></circle><circle cx=\"160.70707070707073\" cy=\"292.08448117539024\" r=\"1.5\" style=\"fill: #69b3a2;\"></circle><circle cx=\"164.44444444444446\" cy=\"288.8888888888889\" r=\"1.5\" style=\"fill: #69b3a2;\"></circle><circle cx=\"168.1818181818182\" cy=\"285.6198347107438\" r=\"1.5\" style=\"fill: #69b3a2;\"></circle><circle cx=\"171.91919191919195\" cy=\"282.277318640955\" r=\"1.5\" style=\"fill: #69b3a2;\"></circle><circle cx=\"175.65656565656568\" cy=\"278.86134067952247\" r=\"1.5\" style=\"fill: #69b3a2;\"></circle><circle cx=\"179.3939393939394\" cy=\"275.3719008264463\" r=\"1.5\" style=\"fill: #69b3a2;\"></circle><circle cx=\"183.13131313131314\" cy=\"271.8089990817263\" r=\"1.5\" style=\"fill: #69b3a2;\"></circle><circle cx=\"186.8686868686869\" cy=\"268.1726354453627\" r=\"1.5\" style=\"fill: #69b3a2;\"></circle><circle cx=\"190.60606060606065\" cy=\"264.46280991735534\" r=\"1.5\" style=\"fill: #69b3a2;\"></circle><circle cx=\"194.34343434343435\" cy=\"260.6795224977043\" r=\"1.5\" style=\"fill: #69b3a2;\"></circle><circle cx=\"198.08080808080808\" cy=\"256.82277318640956\" r=\"1.5\" style=\"fill: #69b3a2;\"></circle><circle cx=\"201.81818181818184\" cy=\"252.89256198347104\" r=\"1.5\" style=\"fill: #69b3a2;\"></circle><circle cx=\"205.55555555555557\" cy=\"248.88888888888889\" r=\"1.5\" style=\"fill: #69b3a2;\"></circle><circle cx=\"209.29292929292933\" cy=\"244.81175390266296\" r=\"1.5\" style=\"fill: #69b3a2;\"></circle><circle cx=\"213.03030303030306\" cy=\"240.66115702479337\" r=\"1.5\" style=\"fill: #69b3a2;\"></circle><circle cx=\"216.76767676767676\" cy=\"236.4370982552801\" r=\"1.5\" style=\"fill: #69b3a2;\"></circle><circle cx=\"220.50505050505052\" cy=\"232.139577594123\" r=\"1.5\" style=\"fill: #69b3a2;\"></circle><circle cx=\"224.24242424242425\" cy=\"227.76859504132227\" r=\"1.5\" style=\"fill: #69b3a2;\"></circle><circle cx=\"227.979797979798\" cy=\"223.32415059687781\" r=\"1.5\" style=\"fill: #69b3a2;\"></circle><circle cx=\"231.71717171717174\" cy=\"218.8062442607897\" r=\"1.5\" style=\"fill: #69b3a2;\"></circle><circle cx=\"235.4545454545455\" cy=\"214.21487603305778\" r=\"1.5\" style=\"fill: #69b3a2;\"></circle><circle cx=\"239.19191919191923\" cy=\"209.55004591368228\" r=\"1.5\" style=\"fill: #69b3a2;\"></circle><circle cx=\"242.92929292929293\" cy=\"204.81175390266296\" r=\"1.5\" style=\"fill: #69b3a2;\"></circle><circle cx=\"246.66666666666669\" cy=\"199.99999999999997\" r=\"1.5\" style=\"fill: #69b3a2;\"></circle><circle cx=\"250.40404040404042\" cy=\"195.11478420569327\" r=\"1.5\" style=\"fill: #69b3a2;\"></circle><circle cx=\"254.14141414141417\" cy=\"190.15610651974282\" r=\"1.5\" style=\"fill: #69b3a2;\"></circle><circle cx=\"257.8787878787879\" cy=\"185.12396694214874\" r=\"1.5\" style=\"fill: #69b3a2;\"></circle><circle cx=\"261.61616161616166\" cy=\"180.01836547291086\" r=\"1.5\" style=\"fill: #69b3a2;\"></circle><circle cx=\"265.3535353535354\" cy=\"174.83930211202934\" r=\"1.5\" style=\"fill: #69b3a2;\"></circle><circle cx=\"269.0909090909091\" cy=\"169.58677685950414\" r=\"1.5\" style=\"fill: #69b3a2;\"></circle><circle cx=\"272.82828282828285\" cy=\"164.26078971533514\" r=\"1.5\" style=\"fill: #69b3a2;\"></circle><circle cx=\"276.5656565656566\" cy=\"158.86134067952247\" r=\"1.5\" style=\"fill: #69b3a2;\"></circle><circle cx=\"280.30303030303037\" cy=\"153.38842975206606\" r=\"1.5\" style=\"fill: #69b3a2;\"></circle><circle cx=\"284.04040404040404\" cy=\"147.842056932966\" r=\"1.5\" style=\"fill: #69b3a2;\"></circle><circle cx=\"287.77777777777777\" cy=\"142.22222222222223\" r=\"1.5\" style=\"fill: #69b3a2;\"></circle><circle cx=\"291.51515151515156\" cy=\"136.52892561983467\" r=\"1.5\" style=\"fill: #69b3a2;\"></circle><circle cx=\"295.2525252525253\" cy=\"130.7621671258035\" r=\"1.5\" style=\"fill: #69b3a2;\"></circle><circle cx=\"298.989898989899\" cy=\"124.92194674012849\" r=\"1.5\" style=\"fill: #69b3a2;\"></circle><circle cx=\"302.72727272727275\" cy=\"119.00826446280988\" r=\"1.5\" style=\"fill: #69b3a2;\"></circle><circle cx=\"306.46464646464653\" cy=\"113.0211202938475\" r=\"1.5\" style=\"fill: #69b3a2;\"></circle><circle cx=\"310.2020202020202\" cy=\"106.96051423324147\" r=\"1.5\" style=\"fill: #69b3a2;\"></circle><circle cx=\"313.93939393939394\" cy=\"100.8264462809917\" r=\"1.5\" style=\"fill: #69b3a2;\"></circle><circle cx=\"317.6767676767677\" cy=\"94.6189164370982\" r=\"1.5\" style=\"fill: #69b3a2;\"></circle><circle cx=\"321.41414141414145\" cy=\"88.33792470156102\" r=\"1.5\" style=\"fill: #69b3a2;\"></circle><circle cx=\"325.1515151515152\" cy=\"81.9834710743801\" r=\"1.5\" style=\"fill: #69b3a2;\"></circle><circle cx=\"328.8888888888889\" cy=\"75.55555555555553\" r=\"1.5\" style=\"fill: #69b3a2;\"></circle><circle cx=\"332.6262626262627\" cy=\"69.05417814508715\" r=\"1.5\" style=\"fill: #69b3a2;\"></circle><circle cx=\"336.3636363636364\" cy=\"62.47933884297516\" r=\"1.5\" style=\"fill: #69b3a2;\"></circle><circle cx=\"340.1010101010101\" cy=\"55.83103764921943\" r=\"1.5\" style=\"fill: #69b3a2;\"></circle><circle cx=\"343.8383838383839\" cy=\"49.10927456381994\" r=\"1.5\" style=\"fill: #69b3a2;\"></circle><circle cx=\"347.5757575757576\" cy=\"42.31404958677683\" r=\"1.5\" style=\"fill: #69b3a2;\"></circle><circle cx=\"351.31313131313135\" cy=\"35.44536271808992\" r=\"1.5\" style=\"fill: #69b3a2;\"></circle><circle cx=\"355.0505050505051\" cy=\"28.50321395775935\" r=\"1.5\" style=\"fill: #69b3a2;\"></circle><circle cx=\"358.7878787878788\" cy=\"21.487603305785086\" r=\"1.5\" style=\"fill: #69b3a2;\"></circle><circle cx=\"362.52525252525254\" cy=\"14.398530762167056\" r=\"1.5\" style=\"fill: #69b3a2;\"></circle><circle cx=\"366.26262626262627\" cy=\"7.235996326905374\" r=\"1.5\" style=\"fill: #69b3a2;\"></circle><circle cx=\"370\" cy=\"0\" r=\"1.5\" style=\"fill: #69b3a2;\"></circle></g></g></svg>"
      ]
     },
     "execution_count": 68,
     "metadata": {},
     "output_type": "execute_result"
    }
   ],
   "source": [
    "var d3 = require('d3'); // Must be version 6.7.0 or less (install d3^6.7.0). In v7, they dropped support to commonJS's \"require\"\n",
    "var { JSDOM } = require('jsdom');\n",
    "\n",
    "\n",
    "var document = new JSDOM(\"\").window.document;\n",
    "var x = np`linspace(0,1,100)`\n",
    "var y = np`${x} * ${x}`\n",
    "\n",
    "// set the dimensions and margins of the graph\n",
    "var margin = { top: 10, right: 30, bottom: 30, left: 60 },\n",
    "  width = 460 - margin.left - margin.right,\n",
    "  height = 400 - margin.top - margin.bottom;\n",
    "\n",
    "// append the svg object to the body of the page\n",
    "var svg = d3.select(document.body)\n",
    "  .append(\"svg\")\n",
    "  .attr(\"width\", width + margin.left + margin.right)\n",
    "  .attr(\"height\", height + margin.top + margin.bottom)\n",
    "  .append(\"g\")\n",
    "  .attr(\"transform\", \"translate(\" + margin.left + \",\" + margin.top + \")\");\n",
    "\n",
    "// Add X axis\n",
    "var axisX = d3.scaleLinear()\n",
    "  .domain([0, 1])\n",
    "  .range([0, width]);\n",
    "svg.append(\"g\")\n",
    "  .attr(\"transform\", \"translate(0,\" + height + \")\")\n",
    "  .call(d3.axisBottom(axisX));\n",
    "\n",
    "// Add Y axis\n",
    "var axisY = d3.scaleLinear()\n",
    "  .domain([0, 1])\n",
    "  .range([height, 0]);\n",
    "svg.append(\"g\")\n",
    "  .call(d3.axisLeft(axisY));\n",
    "\n",
    "// Add dots\n",
    "svg.append('g')\n",
    "  .selectAll(\"dot\")\n",
    "  .data(x.map((_,i)=>[x[i], y[i]]))\n",
    "  .enter()\n",
    "  .append(\"circle\")\n",
    "  .attr(\"cx\", function (d) { return axisX(d[0]); })\n",
    "  .attr(\"cy\", function (d) { return axisY(d[1]); })\n",
    "  .attr(\"r\", 1.5)\n",
    "  .style(\"fill\", \"#69b3a2\");\n",
    "\n",
    "\n",
    "$$.html(document.body.innerHTML);"
   ]
  },
  {
   "cell_type": "code",
   "execution_count": null,
   "metadata": {},
   "outputs": [],
   "source": []
  }
 ],
 "metadata": {
  "kernelspec": {
   "display_name": "JavaScript (Node.js)",
   "language": "javascript",
   "name": "javascript"
  },
  "language_info": {
   "file_extension": ".js",
   "mimetype": "application/javascript",
   "name": "javascript",
   "version": "18.17.0"
  },
  "orig_nbformat": 4
 },
 "nbformat": 4,
 "nbformat_minor": 2
}
