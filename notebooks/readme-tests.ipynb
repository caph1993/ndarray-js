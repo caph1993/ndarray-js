{
 "cells": [
  {
   "cell_type": "code",
   "execution_count": 2,
   "metadata": {},
   "outputs": [
    {
     "name": "stdout",
     "output_type": "stream",
     "text": [
      "[ 25, 6.25, 0, 6.25, 25 ]\n",
      "[ [ 57, 58 ], [ 59, 60 ], [ 61, 62 ] ]\n"
     ]
    }
   ],
   "source": [
    "//@ts-check\n",
    "var {np} = require('../dist/caph1993-numpy-js.js');\n",
    "\n",
    "console.log(np.JS`np.linspace(-5, 5, 5) ** 2`) // [ 25, 6.25, 0, 6.25, 25 ]\n",
    "console.log(np.JS`np.arange(120).reshape(20,3,2).mean(axis=0)`) // [ [ 57, 58 ], [ 59, 60 ], [ 61, 62 ] ]"
   ]
  },
  {
   "cell_type": "code",
   "execution_count": 5,
   "metadata": {},
   "outputs": [
    {
     "name": "stdout",
     "output_type": "stream",
     "text": [
      "[ 51 ] -10\n",
      "[ 51 ] 0\n",
      "true\n"
     ]
    }
   ],
   "source": [
    "\n",
    "var x = np`np.linspace(-10, 10, 51)`;\n",
    "console.log(x.shape, x.min()); // [ 51 ] -10\n",
    "var x_abs = x.copy();\n",
    "np`${x_abs}[${x_abs} < 0] *= -1`\n",
    "console.log(x_abs.shape, x_abs.min()); // [ 51 ] 0\n",
    "console.log(np.allclose(x_abs, np.abs(x))); // true"
   ]
  },
  {
   "cell_type": "code",
   "execution_count": null,
   "metadata": {},
   "outputs": [],
   "source": []
  }
 ],
 "metadata": {
  "kernelspec": {
   "display_name": "JavaScript (Node.js)",
   "language": "javascript",
   "name": "javascript"
  },
  "language_info": {
   "file_extension": ".js",
   "mimetype": "application/javascript",
   "name": "javascript",
   "version": "18.17.0"
  },
  "orig_nbformat": 4
 },
 "nbformat": 4,
 "nbformat_minor": 2
}
