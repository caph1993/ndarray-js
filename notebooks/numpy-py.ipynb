{
 "cells": [
  {
   "cell_type": "code",
   "execution_count": 2,
   "metadata": {},
   "outputs": [],
   "source": [
    "import numpy as np\n",
    "np.transpose"
   ]
  },
  {
   "cell_type": "code",
   "execution_count": 13,
   "metadata": {},
   "outputs": [
    {
     "name": "stdout",
     "output_type": "stream",
     "text": [
      "(2, 2, 5, 4, 5)\n",
      "(2, 1, 4, 5)\n"
     ]
    }
   ],
   "source": [
    "arr = np.arange(120).reshape((2, 3, 4, 5))\n",
    "\n",
    "print(\n",
    "    np.apply_along_axis(lambda arr: np.array([[*arr, 0, 1]] * 2), axis=1, arr=arr).shape\n",
    ")\n",
    "print(np.apply_along_axis(lambda arr: [np.sum(arr)], axis=1, arr=arr).shape)"
   ]
  },
  {
   "cell_type": "code",
   "execution_count": 14,
   "metadata": {},
   "outputs": [
    {
     "name": "stdout",
     "output_type": "stream",
     "text": [
      "[9]\n"
     ]
    },
    {
     "data": {
      "text/plain": [
       "array([[[1., 1., 1., 1.],\n",
       "        [1., 1., 1., 1.],\n",
       "        [1., 1., 1., 1.]],\n",
       "\n",
       "       [[1., 1., 1., 1.],\n",
       "        [1., 1., 1., 1.],\n",
       "        [1., 1., 1., 1.]]])"
      ]
     },
     "execution_count": 14,
     "metadata": {},
     "output_type": "execute_result"
    }
   ],
   "source": [
    "print(np.arange(10)[-1:])\n",
    "\n",
    "\n",
    "np.ones((2,3,4,))"
   ]
  },
  {
   "cell_type": "code",
   "execution_count": 10,
   "metadata": {},
   "outputs": [
    {
     "name": "stdout",
     "output_type": "stream",
     "text": [
      "[[[    0     1     2 ...   147   148   149]\n",
      "  [  150   151   152 ...   297   298   299]\n",
      "  [  300   301   302 ...   447   448   449]\n",
      "  [  450   451   452 ...   597   598   599]\n",
      "  [  600   601   602 ...   747   748   749]]\n",
      "\n",
      " [[  750   751   752 ...   897   898   899]\n",
      "  [  900   901   902 ...  1047  1048  1049]\n",
      "  [ 1050  1051  1052 ...  1197  1198  1199]\n",
      "  [ 1200  1201  1202 ...  1347  1348  1349]\n",
      "  [ 1350  1351  1352 ...  1497  1498  1499]]\n",
      "\n",
      " [[ 1500  1501  1502 ...  1647  1648  1649]\n",
      "  [ 1650  1651  1652 ...  1797  1798  1799]\n",
      "  [ 1800  1801  1802 ...  1947  1948  1949]\n",
      "  [ 1950  1951  1952 ...  2097  2098  2099]\n",
      "  [ 2100  2101  2102 ...  2247  2248  2249]]\n",
      "\n",
      " ...\n",
      "\n",
      " [[12750 12751 12752 ... 12897 12898 12899]\n",
      "  [12900 12901 12902 ... 13047 13048 13049]\n",
      "  [13050 13051 13052 ... 13197 13198 13199]\n",
      "  [13200 13201 13202 ... 13347 13348 13349]\n",
      "  [13350 13351 13352 ... 13497 13498 13499]]\n",
      "\n",
      " [[13500 13501 13502 ... 13647 13648 13649]\n",
      "  [13650 13651 13652 ... 13797 13798 13799]\n",
      "  [13800 13801 13802 ... 13947 13948 13949]\n",
      "  [13950 13951 13952 ... 14097 14098 14099]\n",
      "  [14100 14101 14102 ... 14247 14248 14249]]\n",
      "\n",
      " [[14250 14251 14252 ... 14397 14398 14399]\n",
      "  [14400 14401 14402 ... 14547 14548 14549]\n",
      "  [14550 14551 14552 ... 14697 14698 14699]\n",
      "  [14700 14701 14702 ... 14847 14848 14849]\n",
      "  [14850 14851 14852 ... 14997 14998 14999]]]\n"
     ]
    },
    {
     "data": {
      "text/plain": [
       "<slot wrapper '__repr__' of 'numpy.ndarray' objects>"
      ]
     },
     "execution_count": 10,
     "metadata": {},
     "output_type": "execute_result"
    }
   ],
   "source": [
    "print(np.arange(15000).reshape(20, 5,-1))\n",
    "\n",
    "np.ndarray.__repr__\n"
   ]
  },
  {
   "cell_type": "code",
   "execution_count": 13,
   "metadata": {},
   "outputs": [
    {
     "name": "stdout",
     "output_type": "stream",
     "text": [
      "[[[[    0]\n",
      "   [    1]\n",
      "   [    2]\n",
      "   ...\n",
      "   [  147]\n",
      "   [  148]\n",
      "   [  149]]\n",
      "\n",
      "  [[  150]\n",
      "   [  151]\n",
      "   [  152]\n",
      "   ...\n",
      "   [  297]\n",
      "   [  298]\n",
      "   [  299]]\n",
      "\n",
      "  [[  300]\n",
      "   [  301]\n",
      "   [  302]\n",
      "   ...\n",
      "   [  447]\n",
      "   [  448]\n",
      "   [  449]]\n",
      "\n",
      "  [[  450]\n",
      "   [  451]\n",
      "   [  452]\n",
      "   ...\n",
      "   [  597]\n",
      "   [  598]\n",
      "   [  599]]\n",
      "\n",
      "  [[  600]\n",
      "   [  601]\n",
      "   [  602]\n",
      "   ...\n",
      "   [  747]\n",
      "   [  748]\n",
      "   [  749]]]\n",
      "\n",
      "\n",
      " [[[  750]\n",
      "   [  751]\n",
      "   [  752]\n",
      "   ...\n",
      "   [  897]\n",
      "   [  898]\n",
      "   [  899]]\n",
      "\n",
      "  [[  900]\n",
      "   [  901]\n",
      "   [  902]\n",
      "   ...\n",
      "   [ 1047]\n",
      "   [ 1048]\n",
      "   [ 1049]]\n",
      "\n",
      "  [[ 1050]\n",
      "   [ 1051]\n",
      "   [ 1052]\n",
      "   ...\n",
      "   [ 1197]\n",
      "   [ 1198]\n",
      "   [ 1199]]\n",
      "\n",
      "  [[ 1200]\n",
      "   [ 1201]\n",
      "   [ 1202]\n",
      "   ...\n",
      "   [ 1347]\n",
      "   [ 1348]\n",
      "   [ 1349]]\n",
      "\n",
      "  [[ 1350]\n",
      "   [ 1351]\n",
      "   [ 1352]\n",
      "   ...\n",
      "   [ 1497]\n",
      "   [ 1498]\n",
      "   [ 1499]]]\n",
      "\n",
      "\n",
      " [[[ 1500]\n",
      "   [ 1501]\n",
      "   [ 1502]\n",
      "   ...\n",
      "   [ 1647]\n",
      "   [ 1648]\n",
      "   [ 1649]]\n",
      "\n",
      "  [[ 1650]\n",
      "   [ 1651]\n",
      "   [ 1652]\n",
      "   ...\n",
      "   [ 1797]\n",
      "   [ 1798]\n",
      "   [ 1799]]\n",
      "\n",
      "  [[ 1800]\n",
      "   [ 1801]\n",
      "   [ 1802]\n",
      "   ...\n",
      "   [ 1947]\n",
      "   [ 1948]\n",
      "   [ 1949]]\n",
      "\n",
      "  [[ 1950]\n",
      "   [ 1951]\n",
      "   [ 1952]\n",
      "   ...\n",
      "   [ 2097]\n",
      "   [ 2098]\n",
      "   [ 2099]]\n",
      "\n",
      "  [[ 2100]\n",
      "   [ 2101]\n",
      "   [ 2102]\n",
      "   ...\n",
      "   [ 2247]\n",
      "   [ 2248]\n",
      "   [ 2249]]]\n",
      "\n",
      "\n",
      " ...\n",
      "\n",
      "\n",
      " [[[12750]\n",
      "   [12751]\n",
      "   [12752]\n",
      "   ...\n",
      "   [12897]\n",
      "   [12898]\n",
      "   [12899]]\n",
      "\n",
      "  [[12900]\n",
      "   [12901]\n",
      "   [12902]\n",
      "   ...\n",
      "   [13047]\n",
      "   [13048]\n",
      "   [13049]]\n",
      "\n",
      "  [[13050]\n",
      "   [13051]\n",
      "   [13052]\n",
      "   ...\n",
      "   [13197]\n",
      "   [13198]\n",
      "   [13199]]\n",
      "\n",
      "  [[13200]\n",
      "   [13201]\n",
      "   [13202]\n",
      "   ...\n",
      "   [13347]\n",
      "   [13348]\n",
      "   [13349]]\n",
      "\n",
      "  [[13350]\n",
      "   [13351]\n",
      "   [13352]\n",
      "   ...\n",
      "   [13497]\n",
      "   [13498]\n",
      "   [13499]]]\n",
      "\n",
      "\n",
      " [[[13500]\n",
      "   [13501]\n",
      "   [13502]\n",
      "   ...\n",
      "   [13647]\n",
      "   [13648]\n",
      "   [13649]]\n",
      "\n",
      "  [[13650]\n",
      "   [13651]\n",
      "   [13652]\n",
      "   ...\n",
      "   [13797]\n",
      "   [13798]\n",
      "   [13799]]\n",
      "\n",
      "  [[13800]\n",
      "   [13801]\n",
      "   [13802]\n",
      "   ...\n",
      "   [13947]\n",
      "   [13948]\n",
      "   [13949]]\n",
      "\n",
      "  [[13950]\n",
      "   [13951]\n",
      "   [13952]\n",
      "   ...\n",
      "   [14097]\n",
      "   [14098]\n",
      "   [14099]]\n",
      "\n",
      "  [[14100]\n",
      "   [14101]\n",
      "   [14102]\n",
      "   ...\n",
      "   [14247]\n",
      "   [14248]\n",
      "   [14249]]]\n",
      "\n",
      "\n",
      " [[[14250]\n",
      "   [14251]\n",
      "   [14252]\n",
      "   ...\n",
      "   [14397]\n",
      "   [14398]\n",
      "   [14399]]\n",
      "\n",
      "  [[14400]\n",
      "   [14401]\n",
      "   [14402]\n",
      "   ...\n",
      "   [14547]\n",
      "   [14548]\n",
      "   [14549]]\n",
      "\n",
      "  [[14550]\n",
      "   [14551]\n",
      "   [14552]\n",
      "   ...\n",
      "   [14697]\n",
      "   [14698]\n",
      "   [14699]]\n",
      "\n",
      "  [[14700]\n",
      "   [14701]\n",
      "   [14702]\n",
      "   ...\n",
      "   [14847]\n",
      "   [14848]\n",
      "   [14849]]\n",
      "\n",
      "  [[14850]\n",
      "   [14851]\n",
      "   [14852]\n",
      "   ...\n",
      "   [14997]\n",
      "   [14998]\n",
      "   [14999]]]]\n"
     ]
    }
   ],
   "source": [
    "print(np.arange(15000).reshape(20, 5,-1, 1))\n"
   ]
  },
  {
   "cell_type": "code",
   "execution_count": 3,
   "metadata": {},
   "outputs": [
    {
     "name": "stdout",
     "output_type": "stream",
     "text": [
      "(2, 2, 1, 5)\n",
      "(2, 2, 5)\n"
     ]
    }
   ],
   "source": [
    "print(np.arange(120).reshape([2,3,4,5])[:,0,[1,2],None,:].shape)\n",
    "print(np.arange(120).reshape([2,3,4,5])[:,0,[1,2],:].shape)"
   ]
  },
  {
   "cell_type": "code",
   "execution_count": 4,
   "metadata": {},
   "outputs": [
    {
     "name": "stdout",
     "output_type": "stream",
     "text": [
      "34.63981331743384\n"
     ]
    }
   ],
   "source": [
    "print(np.arange(120).std())"
   ]
  },
  {
   "cell_type": "code",
   "execution_count": 5,
   "metadata": {},
   "outputs": [
    {
     "data": {
      "text/plain": [
       "array([0, 1, 2, 3, 4, 5, 6, 7, 8, 9])"
      ]
     },
     "execution_count": 5,
     "metadata": {},
     "output_type": "execute_result"
    }
   ],
   "source": [
    "np.where(np.arange(10)%2, np.arange(10), np.arange(10))"
   ]
  },
  {
   "cell_type": "code",
   "execution_count": 6,
   "metadata": {},
   "outputs": [
    {
     "data": {
      "text/plain": [
       "array([[ 6,  7,  8],\n",
       "       [24, 25, 26],\n",
       "       [42, 43, 44],\n",
       "       [60, 61, 62],\n",
       "       [78, 79, 80],\n",
       "       [96, 97, 98]])"
      ]
     },
     "execution_count": 6,
     "metadata": {},
     "output_type": "execute_result"
    }
   ],
   "source": [
    "\n",
    "np.arange(120).reshape([-1, 3])[2:-3:6]"
   ]
  },
  {
   "cell_type": "code",
   "execution_count": 5,
   "metadata": {},
   "outputs": [
    {
     "name": "stdout",
     "output_type": "stream",
     "text": [
      "[[0, 1, 2], [3, 4, 5], [6, 7, 8], [9, 10, 11], [12, 13, 14], [15, 16, 17], [18, 19, 20], [21, 22, 23], [24, 25, 26], [27, 28, 29], [30, 31, 32], [33, 34, 35], [36, 37, 38], [39, 40, 41], [42, 43, 44], [45, 46, 47], [48, 49, 50], [51, 52, 53], [54, 55, 56], [57, 58, 59], [60, 61, 62], [63, 64, 65], [66, 67, 68], [69, 70, 71], [72, 73, 74], [75, 76, 77], [78, 79, 80], [81, 82, 83], [84, 85, 86], [87, 88, 89], [90, 91, 92], [93, 94, 95], [96, 97, 98], [99, 100, 101], [102, 103, 104], [105, 106, 107], [108, 109, 110], [111, 112, 113], [114, 115, 116], [117, 118, 119]]\n"
     ]
    }
   ],
   "source": [
    "import numpy as np\n",
    "import json\n",
    "print(json.dumps(np.arange(120).reshape([-1,3]).tolist()), flush=True)"
   ]
  },
  {
   "cell_type": "code",
   "execution_count": null,
   "metadata": {},
   "outputs": [],
   "source": [
    "np.add\n",
    "np.sort"
   ]
  },
  {
   "cell_type": "code",
   "execution_count": 6,
   "metadata": {},
   "outputs": [
    {
     "ename": "TypeError",
     "evalue": "integer argument expected, got float",
     "output_type": "error",
     "traceback": [
      "\u001b[0;31m---------------------------------------------------------------------------\u001b[0m",
      "\u001b[0;31mTypeError\u001b[0m                                 Traceback (most recent call last)",
      "\u001b[1;32m/home/carlos/Documents/projects/js-snippets/numpy-py.ipynb Cell 7\u001b[0m line \u001b[0;36m1\n\u001b[0;32m----> <a href='vscode-notebook-cell:/home/carlos/Documents/projects/js-snippets/numpy-py.ipynb#X15sZmlsZQ%3D%3D?line=0'>1</a>\u001b[0m np\u001b[39m.\u001b[39;49marray([[\u001b[39m1\u001b[39;49m,\u001b[39m2\u001b[39;49m],[\u001b[39m1\u001b[39;49m,\u001b[39m2\u001b[39;49m],[\u001b[39m1\u001b[39;49m,\u001b[39m2\u001b[39;49m]])\u001b[39m.\u001b[39;49msum(axis\u001b[39m=\u001b[39;49m\u001b[39m0\u001b[39;49m, keepdims\u001b[39m=\u001b[39;49mnp\u001b[39m.\u001b[39;49mnan)\n",
      "File \u001b[0;32m~/.local/lib/python3.10/site-packages/numpy/core/_methods.py:49\u001b[0m, in \u001b[0;36m_sum\u001b[0;34m(a, axis, dtype, out, keepdims, initial, where)\u001b[0m\n\u001b[1;32m     47\u001b[0m \u001b[39mdef\u001b[39;00m \u001b[39m_sum\u001b[39m(a, axis\u001b[39m=\u001b[39m\u001b[39mNone\u001b[39;00m, dtype\u001b[39m=\u001b[39m\u001b[39mNone\u001b[39;00m, out\u001b[39m=\u001b[39m\u001b[39mNone\u001b[39;00m, keepdims\u001b[39m=\u001b[39m\u001b[39mFalse\u001b[39;00m,\n\u001b[1;32m     48\u001b[0m          initial\u001b[39m=\u001b[39m_NoValue, where\u001b[39m=\u001b[39m\u001b[39mTrue\u001b[39;00m):\n\u001b[0;32m---> 49\u001b[0m     \u001b[39mreturn\u001b[39;00m umr_sum(a, axis, dtype, out, keepdims, initial, where)\n",
      "\u001b[0;31mTypeError\u001b[0m: integer argument expected, got float"
     ]
    }
   ],
   "source": [
    "np.array([[1,2],[1,2],[1,2]]).sum(axis=0, keepdims=np.nan)"
   ]
  },
  {
   "cell_type": "code",
   "execution_count": 7,
   "metadata": {},
   "outputs": [
    {
     "data": {
      "text/plain": [
       "array([[10., 10.]])"
      ]
     },
     "execution_count": 7,
     "metadata": {},
     "output_type": "execute_result"
    }
   ],
   "source": [
    "np.sum(np.ones(np.array([10,2])), axis=0, keepdims=True)"
   ]
  },
  {
   "cell_type": "code",
   "execution_count": 8,
   "metadata": {},
   "outputs": [
    {
     "ename": "TypeError",
     "evalue": "ufunc 'bitwise_or' not supported for the input types, and the inputs could not be safely coerced to any supported types according to the casting rule ''safe''",
     "output_type": "error",
     "traceback": [
      "\u001b[0;31m---------------------------------------------------------------------------\u001b[0m",
      "\u001b[0;31mTypeError\u001b[0m                                 Traceback (most recent call last)",
      "\u001b[1;32m/home/carlos/Documents/projects/js-snippets/numpy-py.ipynb Cell 9\u001b[0m line \u001b[0;36m1\n\u001b[0;32m----> <a href='vscode-notebook-cell:/home/carlos/Documents/projects/js-snippets/numpy-py.ipynb#X20sZmlsZQ%3D%3D?line=0'>1</a>\u001b[0m np\u001b[39m.\u001b[39;49mones(\u001b[39m3\u001b[39;49m, dtype \u001b[39m=\u001b[39;49m \u001b[39mint\u001b[39;49m) \u001b[39m|\u001b[39;49m np\u001b[39m.\u001b[39;49mones(\u001b[39m3\u001b[39;49m, dtype \u001b[39m=\u001b[39;49m \u001b[39mint\u001b[39;49m) \u001b[39m+\u001b[39;49m np\u001b[39m.\u001b[39;49mones(\u001b[39m3\u001b[39;49m)\n",
      "\u001b[0;31mTypeError\u001b[0m: ufunc 'bitwise_or' not supported for the input types, and the inputs could not be safely coerced to any supported types according to the casting rule ''safe''"
     ]
    }
   ],
   "source": [
    "np.ones(3, dtype = int) | np.ones(3, dtype = int) + np.ones(3)"
   ]
  },
  {
   "cell_type": "code",
   "execution_count": null,
   "metadata": {},
   "outputs": [],
   "source": [
    "np.arange(120).reshape([2,3,5,4])[0, np.ones((3, 5), dtype=bool), :-1].shape"
   ]
  },
  {
   "cell_type": "code",
   "execution_count": 11,
   "metadata": {},
   "outputs": [
    {
     "data": {
      "text/plain": [
       "1000000000"
      ]
     },
     "execution_count": 11,
     "metadata": {},
     "output_type": "execute_result"
    }
   ],
   "source": [
    "10**3**2"
   ]
  },
  {
   "cell_type": "code",
   "execution_count": 13,
   "metadata": {},
   "outputs": [
    {
     "data": {
      "text/plain": [
       "(0.8408964152537145, 0.8408964152537145, 0.5000000000000001)"
      ]
     },
     "execution_count": 13,
     "metadata": {},
     "output_type": "execute_result"
    }
   ],
   "source": [
    "2**-0.5**2, 2**(-0.5**2) , (2**-0.5)**2 "
   ]
  },
  {
   "cell_type": "code",
   "execution_count": 14,
   "metadata": {},
   "outputs": [
    {
     "ename": "ValueError",
     "evalue": "operands could not be broadcast together with shapes (4,5) (3,) ",
     "output_type": "error",
     "traceback": [
      "\u001b[0;31m---------------------------------------------------------------------------\u001b[0m",
      "\u001b[0;31mValueError\u001b[0m                                Traceback (most recent call last)",
      "\u001b[1;32m/home/carlos/Documents/projects/js-snippets/numpy-py.ipynb Cell 13\u001b[0m line \u001b[0;36m1\n\u001b[0;32m----> <a href='vscode-notebook-cell:/home/carlos/Documents/projects/js-snippets/numpy-py.ipynb#X23sZmlsZQ%3D%3D?line=0'>1</a>\u001b[0m np\u001b[39m.\u001b[39;49misclose(np\u001b[39m.\u001b[39;49mones((\u001b[39m4\u001b[39;49m, \u001b[39m5\u001b[39;49m)), np\u001b[39m.\u001b[39;49mones((\u001b[39m3\u001b[39;49m)))\n",
      "File \u001b[0;32m<__array_function__ internals>:200\u001b[0m, in \u001b[0;36misclose\u001b[0;34m(*args, **kwargs)\u001b[0m\n",
      "File \u001b[0;32m~/.local/lib/python3.10/site-packages/numpy/core/numeric.py:2380\u001b[0m, in \u001b[0;36misclose\u001b[0;34m(a, b, rtol, atol, equal_nan)\u001b[0m\n\u001b[1;32m   2378\u001b[0m yfin \u001b[39m=\u001b[39m isfinite(y)\n\u001b[1;32m   2379\u001b[0m \u001b[39mif\u001b[39;00m \u001b[39mall\u001b[39m(xfin) \u001b[39mand\u001b[39;00m \u001b[39mall\u001b[39m(yfin):\n\u001b[0;32m-> 2380\u001b[0m     \u001b[39mreturn\u001b[39;00m within_tol(x, y, atol, rtol)\n\u001b[1;32m   2381\u001b[0m \u001b[39melse\u001b[39;00m:\n\u001b[1;32m   2382\u001b[0m     finite \u001b[39m=\u001b[39m xfin \u001b[39m&\u001b[39m yfin\n",
      "File \u001b[0;32m~/.local/lib/python3.10/site-packages/numpy/core/numeric.py:2361\u001b[0m, in \u001b[0;36misclose.<locals>.within_tol\u001b[0;34m(x, y, atol, rtol)\u001b[0m\n\u001b[1;32m   2359\u001b[0m \u001b[39mdef\u001b[39;00m \u001b[39mwithin_tol\u001b[39m(x, y, atol, rtol):\n\u001b[1;32m   2360\u001b[0m     \u001b[39mwith\u001b[39;00m errstate(invalid\u001b[39m=\u001b[39m\u001b[39m'\u001b[39m\u001b[39mignore\u001b[39m\u001b[39m'\u001b[39m), _no_nep50_warning():\n\u001b[0;32m-> 2361\u001b[0m         \u001b[39mreturn\u001b[39;00m less_equal(\u001b[39mabs\u001b[39m(x\u001b[39m-\u001b[39;49my), atol \u001b[39m+\u001b[39m rtol \u001b[39m*\u001b[39m \u001b[39mabs\u001b[39m(y))\n",
      "\u001b[0;31mValueError\u001b[0m: operands could not be broadcast together with shapes (4,5) (3,) "
     ]
    }
   ],
   "source": [
    "np.isclose(np.ones((4, 5)), np.ones((3)))"
   ]
  },
  {
   "cell_type": "code",
   "execution_count": 15,
   "metadata": {},
   "outputs": [
    {
     "data": {
      "text/plain": [
       "-1"
      ]
     },
     "execution_count": 15,
     "metadata": {},
     "output_type": "execute_result"
    }
   ],
   "source": [
    "-1**2"
   ]
  },
  {
   "cell_type": "code",
   "execution_count": 18,
   "metadata": {},
   "outputs": [
    {
     "data": {
      "text/plain": [
       "array([0.        , 0.11111111, 0.22222222, 0.33333333, 0.44444444,\n",
       "       0.55555556, 0.66666667, 0.77777778, 0.88888889, 1.        ])"
      ]
     },
     "execution_count": 18,
     "metadata": {},
     "output_type": "execute_result"
    }
   ],
   "source": [
    "np.linspace(0,1,10, endpoint=True)\n",
    "np.geomspace"
   ]
  },
  {
   "cell_type": "code",
   "execution_count": 21,
   "metadata": {},
   "outputs": [
    {
     "data": {
      "text/plain": [
       "array([[-1, -1, -1, ..., -1, -1, -1],\n",
       "       [-1, -1, -1, ..., -1, -1, -1],\n",
       "       [-1, -1, -1, ..., -1, -1, -1],\n",
       "       ...,\n",
       "       [-1, -1, -1, ..., -1, -1, -1],\n",
       "       [-1, -1, -1, ..., -1, -1, -1],\n",
       "       [-1, -1, -1, ..., -1, -1, -1]])"
      ]
     },
     "execution_count": 21,
     "metadata": {},
     "output_type": "execute_result"
    }
   ],
   "source": [
    "~np.zeros((100,100), dtype=int)\n"
   ]
  },
  {
   "cell_type": "code",
   "execution_count": 50,
   "metadata": {},
   "outputs": [
    {
     "data": {
      "text/plain": [
       "array([[[[ 0,  1,  2,  3,  4]],\n",
       "\n",
       "        [[ 5,  6,  7,  8,  9]],\n",
       "\n",
       "        [[10, 11, 12, 13, 14]],\n",
       "\n",
       "        [[15, 16, 17, 18, 19]],\n",
       "\n",
       "        [[20, 21, 22, 23, 24]]],\n",
       "\n",
       "\n",
       "       [[[60, 61, 62, 63, 64]],\n",
       "\n",
       "        [[65, 66, 67, 68, 69]],\n",
       "\n",
       "        [[70, 71, 72, 73, 74]],\n",
       "\n",
       "        [[75, 76, 77, 78, 79]],\n",
       "\n",
       "        [[80, 81, 82, 83, 84]]]])"
      ]
     },
     "execution_count": 50,
     "metadata": {},
     "output_type": "execute_result"
    }
   ],
   "source": [
    "np.arange(120).reshape(2,3,4,5)[..., np.arange(12).reshape((3,4))<5, None, :]"
   ]
  },
  {
   "cell_type": "code",
   "execution_count": 48,
   "metadata": {},
   "outputs": [
    {
     "ename": "IndexError",
     "evalue": "an index can only have a single ellipsis ('...')",
     "output_type": "error",
     "traceback": [
      "\u001b[0;31m---------------------------------------------------------------------------\u001b[0m",
      "\u001b[0;31mIndexError\u001b[0m                                Traceback (most recent call last)",
      "\u001b[1;32m/home/carlos/Documents/projects/js-snippets/numpy-py.ipynb Cell 18\u001b[0m line \u001b[0;36m1\n\u001b[0;32m----> <a href='vscode-notebook-cell:/home/carlos/Documents/projects/js-snippets/numpy-py.ipynb#X31sZmlsZQ%3D%3D?line=0'>1</a>\u001b[0m np\u001b[39m.\u001b[39;49marange(\u001b[39m120\u001b[39;49m)\u001b[39m.\u001b[39;49mreshape(\u001b[39m2\u001b[39;49m,\u001b[39m3\u001b[39;49m,\u001b[39m4\u001b[39;49m,\u001b[39m5\u001b[39;49m)[\u001b[39m.\u001b[39;49m\u001b[39m.\u001b[39;49m\u001b[39m.\u001b[39;49m, np\u001b[39m.\u001b[39;49marange(\u001b[39m12\u001b[39;49m)\u001b[39m.\u001b[39;49mreshape((\u001b[39m3\u001b[39;49m,\u001b[39m4\u001b[39;49m))\u001b[39m<\u001b[39;49m\u001b[39m5\u001b[39;49m, \u001b[39mNone\u001b[39;49;00m, :, \u001b[39m.\u001b[39;49m\u001b[39m.\u001b[39;49m\u001b[39m.\u001b[39;49m]\u001b[39m.\u001b[39mshape\n",
      "\u001b[0;31mIndexError\u001b[0m: an index can only have a single ellipsis ('...')"
     ]
    }
   ],
   "source": [
    "np.arange(120).reshape(2,3,4,5)[..., np.arange(12).reshape((3,4))<5, None, :, ...].shape"
   ]
  },
  {
   "cell_type": "code",
   "execution_count": 49,
   "metadata": {},
   "outputs": [
    {
     "data": {
      "text/plain": [
       "array(0)"
      ]
     },
     "execution_count": 49,
     "metadata": {},
     "output_type": "execute_result"
    }
   ],
   "source": [
    "np.arange(120).reshape(2,3,4,5)[..., 0,0,0,0]"
   ]
  },
  {
   "cell_type": "code",
   "execution_count": 3,
   "metadata": {},
   "outputs": [
    {
     "name": "stdout",
     "output_type": "stream",
     "text": [
      "[ 0  1  2  3  4  5  6  7  8  9 10 11]\n",
      "[ 0  1  2  3  4  5  6  7  8  9 10 11]\n",
      "[ 0  1  2  3  4  5  6  7  8  9 10 11]\n",
      "None\n",
      "[ 0  1  2  3  4  5  6  7  8  9 10 11]\n"
     ]
    }
   ],
   "source": [
    "x = np.arange(12).reshape((3,4))\n",
    "y = x[0:1:3, 1:3]\n",
    "print(y.base)\n",
    "y = x[..., 1:3]\n",
    "print(y.base)\n",
    "\n",
    "y = x[0, 1:3]\n",
    "print(y.base)\n",
    "\n",
    "y = x[np.ones_like(x, dtype=bool)]\n",
    "print(y.base)\n",
    "\n",
    "print(x.ravel().base)\n"
   ]
  },
  {
   "cell_type": "code",
   "execution_count": null,
   "metadata": {},
   "outputs": [],
   "source": [
    "np.isclose"
   ]
  }
 ],
 "metadata": {
  "kernelspec": {
   "display_name": "Python 3",
   "language": "python",
   "name": "python3"
  },
  "language_info": {
   "codemirror_mode": {
    "name": "ipython",
    "version": 3
   },
   "file_extension": ".py",
   "mimetype": "text/x-python",
   "name": "python",
   "nbconvert_exporter": "python",
   "pygments_lexer": "ipython3",
   "version": "3.10.12"
  },
  "orig_nbformat": 4
 },
 "nbformat": 4,
 "nbformat_minor": 2
}
